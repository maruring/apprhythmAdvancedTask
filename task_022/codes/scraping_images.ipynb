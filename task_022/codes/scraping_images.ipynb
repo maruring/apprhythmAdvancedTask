{
 "cells": [
  {
   "attachments": {},
   "cell_type": "markdown",
   "metadata": {},
   "source": [
    "## 特定の画像をWeb上から自動で収集する"
   ]
  },
  {
   "attachments": {},
   "cell_type": "markdown",
   "metadata": {},
   "source": [
    "### import関係"
   ]
  },
  {
   "cell_type": "code",
   "execution_count": null,
   "metadata": {},
   "outputs": [],
   "source": [
    "from icrawler.builtin import BingImageCrawler\n",
    "import glob"
   ]
  },
  {
   "attachments": {},
   "cell_type": "markdown",
   "metadata": {},
   "source": [
    "## 設定関係"
   ]
  },
  {
   "cell_type": "code",
   "execution_count": null,
   "metadata": {},
   "outputs": [],
   "source": [
    "keywords = ['Dog', 'Cat', 'Rabbit']\n",
    "search_limit = 250\n",
    "\n",
    "assert 0 < search_limit <= 1000"
   ]
  },
  {
   "cell_type": "markdown",
   "metadata": {},
   "source": [
    "## main"
   ]
  },
  {
   "cell_type": "code",
   "execution_count": null,
   "metadata": {},
   "outputs": [],
   "source": [
    "for keyword in keywords:\n",
    "    crawler = BingImageCrawler(storage={\"root_dir\": f\"../imgs/{keyword}\"})\n",
    "    crawler.crawl(keyword=keyword, max_num=search_limit)"
   ]
  },
  {
   "attachments": {},
   "cell_type": "markdown",
   "metadata": {},
   "source": [
    "## 何枚あるかを確認する"
   ]
  },
  {
   "cell_type": "code",
   "execution_count": null,
   "metadata": {},
   "outputs": [],
   "source": [
    "for keyword in keywords:\n",
    "    imgs_num = len(glob.glob(f'../imgs/{keyword}/*'))\n",
    "    print(f'{keyword}の取得枚数: {imgs_num}')\n",
    "    if imgs_num >= 100:\n",
    "        print(\"100枚以上取得出来ています\")"
   ]
  }
 ],
 "metadata": {
  "kernelspec": {
   "display_name": "base",
   "language": "python",
   "name": "python3"
  },
  "language_info": {
   "codemirror_mode": {
    "name": "ipython",
    "version": 3
   },
   "file_extension": ".py",
   "mimetype": "text/x-python",
   "name": "python",
   "nbconvert_exporter": "python",
   "pygments_lexer": "ipython3",
   "version": "3.8.8 (default, Apr 13 2021, 15:08:03) [MSC v.1916 64 bit (AMD64)]"
  },
  "orig_nbformat": 4,
  "vscode": {
   "interpreter": {
    "hash": "57ffe60b67f022e3e004c496d94efce98e49a91bd62ee70e03574f0be0e9ecc2"
   }
  }
 },
 "nbformat": 4,
 "nbformat_minor": 2
}
