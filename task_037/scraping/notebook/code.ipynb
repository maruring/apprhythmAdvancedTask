{
 "cells": [
  {
   "cell_type": "code",
   "execution_count": 8,
   "metadata": {
    "tags": []
   },
   "outputs": [],
   "source": [
    "import requests\n",
    "from bs4 import BeautifulSoup\n",
    "import pandas as pd\n",
    "import time\n",
    "import tqdm\n",
    "\n",
    "import warnings\n",
    "warnings.simplefilter('ignore')"
   ]
  },
  {
   "cell_type": "markdown",
   "metadata": {},
   "source": [
    "## 事前準備"
   ]
  },
  {
   "cell_type": "code",
   "execution_count": 9,
   "metadata": {
    "tags": []
   },
   "outputs": [],
   "source": [
    "list_df = pd.DataFrame(columns=['アーティスト', '曲名','歌詞', 'ラベル'])\n",
    "\n",
    "def no2artist(no):\n",
    "    if no == '12795':\n",
    "        return '米津玄師', 0\n",
    "    elif no == '18093':\n",
    "        return 'Official髭男dism', 1\n",
    "    elif no == '28370':\n",
    "        return 'YOASOBI', 2\n",
    "    elif no == '23343':\n",
    "        return 'King Gnu', 3\n",
    "    elif no == '17598':\n",
    "        return 'あいみょん', 4\n",
    "    elif no == '27857':\n",
    "        return 'Vaundy', 5\n",
    "    elif no == '28712':\n",
    "        return '瑛人', 6\n",
    "    elif no == '11591':\n",
    "        return 'LiSA', 7\n",
    "    elif no == '14957':\n",
    "        return 'DISH//', 8"
   ]
  },
  {
   "cell_type": "markdown",
   "metadata": {},
   "source": [
    "## 歌詞を取得"
   ]
  },
  {
   "cell_type": "code",
   "execution_count": 10,
   "metadata": {
    "tags": []
   },
   "outputs": [
    {
     "name": "stderr",
     "output_type": "stream",
     "text": [
      "100% 9/9 [18:30<00:00, 123.37s/it]\n"
     ]
    }
   ],
   "source": [
    "#歌ネットのurlをbase_urlに入力します\n",
    "base_url = 'https://www.uta-net.com'\n",
    "#usr_agentに先ほど取得したUserAgent情報を入力します\n",
    "user_agent = 'Mozilla/5.0 (Windows NT 10.0; Win64; x64) AppleWebKit/537.36 (KHTML, like Gecko) Chrome/111.0.0.0 Safari/537.36'\n",
    "header = {'User-Agent': user_agent}\n",
    "\n",
    "targets = ['12795', '18093', '28370', '23343', '17598', '27857', '28712', '11591', '14957']\n",
    "\n",
    "for target in tqdm.tqdm(targets):\n",
    "    #urlに先ほど取得した歌詞一覧のURLを入力します\n",
    "    url = f'https://www.uta-net.com/artist/{target}/'\n",
    "    artist, label = no2artist(target)\n",
    "\n",
    "    response = requests.get(url,headers=header)\n",
    "\n",
    "    soup = BeautifulSoup(response.text, 'lxml')\n",
    "\n",
    "    #引数として、class_='sp-w-100'を与えます\n",
    "    links = soup.find_all('td', class_='sp-w-100')\n",
    "\n",
    "    #歌詞情報を取得します\n",
    "    for link in links:\n",
    "        a = base_url + (link.a.get('href'))\n",
    "        response = requests.get(a)\n",
    "        soup = BeautifulSoup(response.text, 'lxml')\n",
    "        song_name = soup.find('h2').text\n",
    "            \n",
    "        song_kashi = soup.find('div', id=\"kashi_area\")\n",
    "        song_kashi = song_kashi.text\n",
    "            \n",
    "        time.sleep(1)\n",
    "            \n",
    "        tmp_se = pd.DataFrame([artist, song_name, song_kashi, label], index=list_df.columns).T\n",
    "        \n",
    "        list_df = list_df.append(tmp_se)"
   ]
  },
  {
   "cell_type": "markdown",
   "metadata": {},
   "source": [
    "## 確認"
   ]
  },
  {
   "cell_type": "code",
   "execution_count": 11,
   "metadata": {
    "tags": []
   },
   "outputs": [
    {
     "name": "stdout",
     "output_type": "stream",
     "text": [
      "(651, 4)\n",
      "    アーティスト             曲名                                                 歌詞  \\\n",
      "0     米津玄師           LADY  例えば僕ら二人　煌めく映画のように出会いなおせたらどうしたい何も謎めいてない　今日は昨日の続...   \n",
      "0     米津玄師        アイネクライネ  あたしあなたに会えて本当に嬉しいのに当たり前のようにそれらすべてが悲しいんだ今痛いくらい幸せ...   \n",
      "0     米津玄師       あたしはゆうれい  真っ赤な林檎に小さなランプ灯りが射し込んだソファの上であなたはいつものように眠ってあたしは鏡...   \n",
      "0     米津玄師       雨の街路に夜光蟲  震えていたのは君の手か僕の手の方か街のライトが雨に照らされて弾ける夜に僕らはただ大人になりた...   \n",
      "0     米津玄師         あめふり婦人  街がびしゃびしゃ濡れる夜までは確かに声で溢れていた今ではおよそ耐え難いくらいの静けさ達がここ...   \n",
      "..     ...            ...                                                ...   \n",
      "0   DISH//         Replay  Replay巻き戻せない同じ朝は二度とないよReplay共に歩こうそのキセキを掴んでいよう咲...   \n",
      "0   DISH//         理由のない恋  試着室のカーテン　開けた瞬間に君が「全然似合わない」って　笑って顔を伏せた好きなものならば　...   \n",
      "0   DISH//           ルーザー  まず掲げるは人が人たらしめる爆弾発言ささて始めるか実在主義はなんたるか難解なもんか信じるもの...   \n",
      "0   DISH//          Loop.  Good Morning, Good Night　毎日　ループ Down な状態　打開したい...   \n",
      "0   DISH//  rock'n'roller  賽は投げられた告げられる合図勝ちなんかじゃなく価値一択の世界で知らないと捨てられたそのゴミ屑...   \n",
      "\n",
      "   ラベル  \n",
      "0    0  \n",
      "0    0  \n",
      "0    0  \n",
      "0    0  \n",
      "0    0  \n",
      "..  ..  \n",
      "0    8  \n",
      "0    8  \n",
      "0    8  \n",
      "0    8  \n",
      "0    8  \n",
      "\n",
      "[651 rows x 4 columns]\n"
     ]
    }
   ],
   "source": [
    "print(list_df.shape)\n",
    "print(list_df)"
   ]
  },
  {
   "cell_type": "code",
   "execution_count": 12,
   "metadata": {
    "tags": []
   },
   "outputs": [],
   "source": [
    "list_df.to_csv('data.csv', index=False)"
   ]
  },
  {
   "cell_type": "code",
   "execution_count": null,
   "metadata": {},
   "outputs": [],
   "source": []
  }
 ],
 "metadata": {
  "kernelspec": {
   "display_name": "Python 3 (ipykernel)",
   "language": "python",
   "name": "python3"
  },
  "language_info": {
   "codemirror_mode": {
    "name": "ipython",
    "version": 3
   },
   "file_extension": ".py",
   "mimetype": "text/x-python",
   "name": "python",
   "nbconvert_exporter": "python",
   "pygments_lexer": "ipython3",
   "version": "3.8.16"
  }
 },
 "nbformat": 4,
 "nbformat_minor": 4
}
