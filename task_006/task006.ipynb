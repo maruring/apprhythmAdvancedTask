{
 "cells": [
  {
   "cell_type": "markdown",
   "metadata": {},
   "source": [
    "# 先端課題006 TPOTを用いた回帰予測"
   ]
  },
  {
   "cell_type": "markdown",
   "metadata": {},
   "source": [
    "### 必要ライブラリをインストール"
   ]
  },
  {
   "cell_type": "code",
   "execution_count": 1,
   "metadata": {},
   "outputs": [
    {
     "name": "stderr",
     "output_type": "stream",
     "text": [
      "C:\\Users\\marur\\Anaconda3\\envs\\apptask006\\lib\\site-packages\\tpot\\builtins\\__init__.py:36: UserWarning: Warning: optional dependency `torch` is not available. - skipping import of NN models.\n",
      "  warnings.warn(\"Warning: optional dependency `torch` is not available. - skipping import of NN models.\")\n"
     ]
    }
   ],
   "source": [
    "from tpot import TPOTRegressor\n",
    "import numpy as np\n",
    "import pandas as pd\n",
    "from sklearn.model_selection import train_test_split"
   ]
  },
  {
   "cell_type": "markdown",
   "metadata": {},
   "source": [
    "### データ読み込み"
   ]
  },
  {
   "cell_type": "code",
   "execution_count": 28,
   "metadata": {},
   "outputs": [
    {
     "name": "stdout",
     "output_type": "stream",
     "text": [
      "<class 'pandas.core.frame.DataFrame'>\n",
      "RangeIndex: 1460 entries, 0 to 1459\n",
      "Data columns (total 81 columns):\n",
      " #   Column         Non-Null Count  Dtype  \n",
      "---  ------         --------------  -----  \n",
      " 0   Id             1460 non-null   int64  \n",
      " 1   MSSubClass     1460 non-null   int64  \n",
      " 2   MSZoning       1460 non-null   object \n",
      " 3   LotFrontage    1201 non-null   float64\n",
      " 4   LotArea        1460 non-null   int64  \n",
      " 5   Street         1460 non-null   object \n",
      " 6   Alley          91 non-null     object \n",
      " 7   LotShape       1460 non-null   object \n",
      " 8   LandContour    1460 non-null   object \n",
      " 9   Utilities      1460 non-null   object \n",
      " 10  LotConfig      1460 non-null   object \n",
      " 11  LandSlope      1460 non-null   object \n",
      " 12  Neighborhood   1460 non-null   object \n",
      " 13  Condition1     1460 non-null   object \n",
      " 14  Condition2     1460 non-null   object \n",
      " 15  BldgType       1460 non-null   object \n",
      " 16  HouseStyle     1460 non-null   object \n",
      " 17  OverallQual    1460 non-null   int64  \n",
      " 18  OverallCond    1460 non-null   int64  \n",
      " 19  YearBuilt      1460 non-null   int64  \n",
      " 20  YearRemodAdd   1460 non-null   int64  \n",
      " 21  RoofStyle      1460 non-null   object \n",
      " 22  RoofMatl       1460 non-null   object \n",
      " 23  Exterior1st    1460 non-null   object \n",
      " 24  Exterior2nd    1460 non-null   object \n",
      " 25  MasVnrType     1452 non-null   object \n",
      " 26  MasVnrArea     1452 non-null   float64\n",
      " 27  ExterQual      1460 non-null   object \n",
      " 28  ExterCond      1460 non-null   object \n",
      " 29  Foundation     1460 non-null   object \n",
      " 30  BsmtQual       1423 non-null   object \n",
      " 31  BsmtCond       1423 non-null   object \n",
      " 32  BsmtExposure   1422 non-null   object \n",
      " 33  BsmtFinType1   1423 non-null   object \n",
      " 34  BsmtFinSF1     1460 non-null   int64  \n",
      " 35  BsmtFinType2   1422 non-null   object \n",
      " 36  BsmtFinSF2     1460 non-null   int64  \n",
      " 37  BsmtUnfSF      1460 non-null   int64  \n",
      " 38  TotalBsmtSF    1460 non-null   int64  \n",
      " 39  Heating        1460 non-null   object \n",
      " 40  HeatingQC      1460 non-null   object \n",
      " 41  CentralAir     1460 non-null   object \n",
      " 42  Electrical     1459 non-null   object \n",
      " 43  1stFlrSF       1460 non-null   int64  \n",
      " 44  2ndFlrSF       1460 non-null   int64  \n",
      " 45  LowQualFinSF   1460 non-null   int64  \n",
      " 46  GrLivArea      1460 non-null   int64  \n",
      " 47  BsmtFullBath   1460 non-null   int64  \n",
      " 48  BsmtHalfBath   1460 non-null   int64  \n",
      " 49  FullBath       1460 non-null   int64  \n",
      " 50  HalfBath       1460 non-null   int64  \n",
      " 51  BedroomAbvGr   1460 non-null   int64  \n",
      " 52  KitchenAbvGr   1460 non-null   int64  \n",
      " 53  KitchenQual    1460 non-null   object \n",
      " 54  TotRmsAbvGrd   1460 non-null   int64  \n",
      " 55  Functional     1460 non-null   object \n",
      " 56  Fireplaces     1460 non-null   int64  \n",
      " 57  FireplaceQu    770 non-null    object \n",
      " 58  GarageType     1379 non-null   object \n",
      " 59  GarageYrBlt    1379 non-null   float64\n",
      " 60  GarageFinish   1379 non-null   object \n",
      " 61  GarageCars     1460 non-null   int64  \n",
      " 62  GarageArea     1460 non-null   int64  \n",
      " 63  GarageQual     1379 non-null   object \n",
      " 64  GarageCond     1379 non-null   object \n",
      " 65  PavedDrive     1460 non-null   object \n",
      " 66  WoodDeckSF     1460 non-null   int64  \n",
      " 67  OpenPorchSF    1460 non-null   int64  \n",
      " 68  EnclosedPorch  1460 non-null   int64  \n",
      " 69  3SsnPorch      1460 non-null   int64  \n",
      " 70  ScreenPorch    1460 non-null   int64  \n",
      " 71  PoolArea       1460 non-null   int64  \n",
      " 72  PoolQC         7 non-null      object \n",
      " 73  Fence          281 non-null    object \n",
      " 74  MiscFeature    54 non-null     object \n",
      " 75  MiscVal        1460 non-null   int64  \n",
      " 76  MoSold         1460 non-null   int64  \n",
      " 77  YrSold         1460 non-null   int64  \n",
      " 78  SaleType       1460 non-null   object \n",
      " 79  SaleCondition  1460 non-null   object \n",
      " 80  SalePrice      1460 non-null   int64  \n",
      "dtypes: float64(3), int64(35), object(43)\n",
      "memory usage: 924.0+ KB\n"
     ]
    }
   ],
   "source": [
    "train = pd.read_csv(\"./train.csv\")\n",
    "test =  pd.read_csv(\"./test.csv\")\n",
    "train.info()"
   ]
  },
  {
   "cell_type": "markdown",
   "metadata": {},
   "source": [
    "### tpotでは数値と欠損値しか扱えないので、数値以外の列をダミー変数化する関数"
   ]
  },
  {
   "cell_type": "code",
   "execution_count": 3,
   "metadata": {},
   "outputs": [],
   "source": [
    "def change_objtype_toint(df):\n",
    "    obj_df = df.select_dtypes(include=\"object\")\n",
    "    dummy_df = pd.get_dummies(obj_df)\n",
    "#     もとのdfからobj列を排除\n",
    "    drop_col_name = obj_df.columns.values\n",
    "    df.drop(drop_col_name, axis=1, inplace=True)\n",
    "# dummy化したDataframeとdropしたDataFrameをconcat\n",
    "    new_df = pd.concat([dummy_df, df], axis=1)\n",
    "    \n",
    "    return new_df"
   ]
  },
  {
   "cell_type": "markdown",
   "metadata": {},
   "source": [
    "### trainデータをtpotで扱えるように変更"
   ]
  },
  {
   "cell_type": "code",
   "execution_count": 4,
   "metadata": {},
   "outputs": [
    {
     "name": "stdout",
     "output_type": "stream",
     "text": [
      "<class 'pandas.core.frame.DataFrame'>\n",
      "RangeIndex: 1460 entries, 0 to 1459\n",
      "Columns: 290 entries, MSZoning_C (all) to SalePrice\n",
      "dtypes: float64(3), int64(35), uint8(252)\n",
      "memory usage: 792.9 KB\n"
     ]
    }
   ],
   "source": [
    "train = change_objtype_toint(train)\n",
    "train.info()"
   ]
  },
  {
   "cell_type": "markdown",
   "metadata": {},
   "source": [
    "### 検証用に説明変数と目的変数を分ける"
   ]
  },
  {
   "cell_type": "code",
   "execution_count": 5,
   "metadata": {},
   "outputs": [],
   "source": [
    "X = train.drop(\"SalePrice\", axis=1)\n",
    "y = train[\"SalePrice\"]\n",
    "\n",
    "X_train, X_test, y_train, y_test = train_test_split(X,\n",
    "                                                    y,\n",
    "                                                    train_size=0.75,\n",
    "                                                    test_size=0.25,\n",
    "                                                    random_state=42)"
   ]
  },
  {
   "cell_type": "markdown",
   "metadata": {},
   "source": [
    "### TPOTRegressorの設定"
   ]
  },
  {
   "cell_type": "code",
   "execution_count": 6,
   "metadata": {},
   "outputs": [],
   "source": [
    "tpot = TPOTRegressor(scoring='r2',\n",
    "                     generations=5,\n",
    "                     population_size=25,\n",
    "                     random_state=42,\n",
    "                     verbosity=2,\n",
    "                     n_jobs=-1)"
   ]
  },
  {
   "cell_type": "markdown",
   "metadata": {},
   "source": [
    "### 学習"
   ]
  },
  {
   "cell_type": "code",
   "execution_count": 7,
   "metadata": {},
   "outputs": [
    {
     "name": "stderr",
     "output_type": "stream",
     "text": [
      "C:\\Users\\marur\\Anaconda3\\envs\\apptask006\\lib\\site-packages\\xgboost\\compat.py:36: FutureWarning: pandas.Int64Index is deprecated and will be removed from pandas in a future version. Use pandas.Index with the appropriate dtype instead.\n",
      "  from pandas import MultiIndex, Int64Index\n"
     ]
    },
    {
     "name": "stdout",
     "output_type": "stream",
     "text": [
      "Imputing missing values in feature set\n",
      "                                                                                                                       \n",
      "Generation 1 - Current best internal CV score: 0.84437195421506\n",
      "                                                                                                                       \n",
      "Generation 2 - Current best internal CV score: 0.84437195421506\n",
      "                                                                                                                       \n",
      "Generation 3 - Current best internal CV score: 0.84437195421506\n",
      "                                                                                                                       \n",
      "Generation 4 - Current best internal CV score: 0.8508296046957303\n",
      "                                                                                                                       \n",
      "Generation 5 - Current best internal CV score: 0.8513022141157766\n",
      "                                                           \n",
      "Best pipeline: RandomForestRegressor(ElasticNetCV(LassoLarsCV(RidgeCV(input_matrix), normalize=False), l1_ratio=0.75, tol=0.01), bootstrap=True, max_features=0.4, min_samples_leaf=16, min_samples_split=14, n_estimators=100)\n"
     ]
    },
    {
     "data": {
      "text/plain": [
       "TPOTRegressor(generations=5, n_jobs=-1, population_size=25, random_state=42,\n",
       "              scoring='r2', verbosity=2)"
      ]
     },
     "execution_count": 7,
     "metadata": {},
     "output_type": "execute_result"
    }
   ],
   "source": [
    "tpot.fit(X_train, y_train)"
   ]
  },
  {
   "cell_type": "markdown",
   "metadata": {},
   "source": [
    "### 最終的な数値モデルを確認"
   ]
  },
  {
   "cell_type": "code",
   "execution_count": 8,
   "metadata": {},
   "outputs": [
    {
     "data": {
      "text/plain": [
       "Pipeline(steps=[('stackingestimator-1',\n",
       "                 StackingEstimator(estimator=RidgeCV(alphas=array([ 0.1,  1. , 10. ])))),\n",
       "                ('stackingestimator-2',\n",
       "                 StackingEstimator(estimator=LassoLarsCV(normalize=False))),\n",
       "                ('stackingestimator-3',\n",
       "                 StackingEstimator(estimator=ElasticNetCV(l1_ratio=0.75,\n",
       "                                                          random_state=42,\n",
       "                                                          tol=0.01))),\n",
       "                ('randomforestregressor',\n",
       "                 RandomForestRegressor(max_features=0.4, min_samples_leaf=16,\n",
       "                                       min_samples_split=14,\n",
       "                                       random_state=42))])"
      ]
     },
     "execution_count": 8,
     "metadata": {},
     "output_type": "execute_result"
    }
   ],
   "source": [
    "tpot.fitted_pipeline_"
   ]
  },
  {
   "cell_type": "markdown",
   "metadata": {},
   "source": [
    "### TPOTの設定を変更して結果がどう変化するかを確かめる"
   ]
  },
  {
   "cell_type": "markdown",
   "metadata": {},
   "source": [
    "#### TPOTの引数\n",
    "scoringパラメータでは、回帰問題のどの評価指標を用いてモデルを最適化するかを指定することができます。ここの例ではr2スコア（決定係数R2）を使います。指定できる評価指標は多数ありますので、TPOTのリファレンスページの（http://epistasislab.github.io/tpot/api/）Parameters>scoringの説明文をご覧ください。  \n",
    "random_stateパラメータは乱数の種です。値を指定しておくと、毎回同じ学習結果が得られます。指定しなければ、毎回少し違った学習結果になります。  \n",
    "generationsパラメータでは特徴量の最適化とパラメータチューニングの最適化を何回繰り返すかを指定できます。  \n",
    "population_sizeではTPOTが使っている遺伝的アルゴリズム内のパラメータです。\n",
    "verbosityパラメータは進捗状況を表示させるためのもので、プログレスバーを表示させる場合には2を設定します。  \n",
    "n_jobsパラメータは並列演算を実施するためのもので、CPUのコア数を最大限に活用する場合には-1を設定します。  "
   ]
  },
  {
   "cell_type": "code",
   "execution_count": 9,
   "metadata": {},
   "outputs": [
    {
     "name": "stdout",
     "output_type": "stream",
     "text": [
      "Imputing missing values in feature set\n",
      "                                                                                                                       \n",
      "Generation 1 - Current best internal CV score: -925485658.6165469\n",
      "                                                                                                                       \n",
      "Generation 2 - Current best internal CV score: -886093621.0063703\n",
      "                                                                                                                       \n",
      "Generation 3 - Current best internal CV score: -870779121.3062241\n",
      "                                                                                                                       \n",
      "Generation 4 - Current best internal CV score: -870779121.3062241\n",
      "                                                                                                                       \n",
      "Generation 5 - Current best internal CV score: -870779121.3062241\n",
      "                                                           \n",
      "Best pipeline: RandomForestRegressor(LassoLarsCV(MaxAbsScaler(LinearSVR(input_matrix, C=5.0, dual=True, epsilon=0.1, loss=epsilon_insensitive, tol=0.0001)), normalize=True), bootstrap=True, max_features=0.7500000000000001, min_samples_leaf=11, min_samples_split=9, n_estimators=100)\n"
     ]
    },
    {
     "data": {
      "text/plain": [
       "TPOTRegressor(generations=5, n_jobs=-1, population_size=25, random_state=42,\n",
       "              scoring='neg_mean_squared_error', verbosity=2)"
      ]
     },
     "execution_count": 9,
     "metadata": {},
     "output_type": "execute_result"
    }
   ],
   "source": [
    "# socreingを'neg_mean_squared_error'に変更\n",
    "tpot = TPOTRegressor(scoring='neg_mean_squared_error',\n",
    "                     generations=5,\n",
    "                     population_size=25,\n",
    "                     random_state=42,\n",
    "                     verbosity=2,\n",
    "                     n_jobs=-1)\n",
    "\n",
    "tpot.fit(X_train, y_train)"
   ]
  },
  {
   "cell_type": "code",
   "execution_count": 10,
   "metadata": {},
   "outputs": [
    {
     "name": "stdout",
     "output_type": "stream",
     "text": [
      "Imputing missing values in feature set\n",
      "                                                                                                                       \n",
      "Generation 1 - Current best internal CV score: 0.84437195421506\n",
      "                                                                                                                       \n",
      "Generation 2 - Current best internal CV score: 0.84437195421506\n",
      "                                                                                                                       \n",
      "Generation 3 - Current best internal CV score: 0.84437195421506\n",
      "                                                                                                                       \n",
      "Generation 4 - Current best internal CV score: 0.84437195421506\n",
      "                                                                                                                       \n",
      "Generation 5 - Current best internal CV score: 0.8525525037014706\n",
      "                                                                                                                       \n",
      "Generation 6 - Current best internal CV score: 0.8525525037014706\n",
      "                                                                                                                       \n",
      "Generation 7 - Current best internal CV score: 0.8533490186042941\n",
      "                                                                                                                       \n",
      "Generation 8 - Current best internal CV score: 0.8546297367724863\n",
      "                                                                                                                       \n",
      "Generation 9 - Current best internal CV score: 0.8546297367724863\n",
      "                                                                                                                       \n",
      "Generation 10 - Current best internal CV score: 0.8546297367724863\n",
      "                                                                                                                       \n",
      "Generation 11 - Current best internal CV score: 0.8548941435766343\n",
      "                                                                                                                       \n",
      "Generation 12 - Current best internal CV score: 0.8548941435766343\n",
      "                                                                                                                       \n",
      "Generation 13 - Current best internal CV score: 0.8548941435766343\n",
      "                                                                                                                       \n",
      "Generation 14 - Current best internal CV score: 0.8548941435766343\n",
      "                                                                                                                       \n",
      "Generation 15 - Current best internal CV score: 0.8577198615822745\n",
      "                                                                                                                       \n",
      "Generation 16 - Current best internal CV score: 0.8577198615822745\n",
      "                                                                                                                       \n",
      "Generation 17 - Current best internal CV score: 0.8577198615822745\n",
      "                                                                                                                       \n",
      "Generation 18 - Current best internal CV score: 0.8577198615822745\n",
      "                                                                                                                       \n",
      "Generation 19 - Current best internal CV score: 0.8577198615822745\n",
      "                                                                                                                       \n",
      "Generation 20 - Current best internal CV score: 0.8577198615822745\n",
      "                                                                                                                       \n",
      "Generation 21 - Current best internal CV score: 0.8577198615822745\n",
      "                                                                                                                       \n",
      "Generation 22 - Current best internal CV score: 0.8577198615822745\n",
      "                                                                                                                       \n",
      "Generation 23 - Current best internal CV score: 0.8577198615822745\n",
      "                                                                                                                       \n",
      "Generation 24 - Current best internal CV score: 0.8577198615822745\n",
      "                                                                                                                       \n",
      "Generation 25 - Current best internal CV score: 0.8577337432417516\n",
      "                                                                                                                       \n",
      "Generation 26 - Current best internal CV score: 0.8577337432417516\n",
      "                                                                                                                       \n",
      "Generation 27 - Current best internal CV score: 0.8584045762090406\n",
      "                                                                                                                       \n",
      "Generation 28 - Current best internal CV score: 0.8584045762090406\n",
      "                                                                                                                       \n",
      "Generation 29 - Current best internal CV score: 0.8584045762090406\n",
      "                                                                                                                       \n",
      "Generation 30 - Current best internal CV score: 0.8584045762090406\n",
      "                                                             \n",
      "Best pipeline: RandomForestRegressor(LassoLarsCV(RobustScaler(input_matrix), normalize=False), bootstrap=False, max_features=0.35000000000000003, min_samples_leaf=11, min_samples_split=4, n_estimators=100)\n"
     ]
    },
    {
     "data": {
      "text/plain": [
       "TPOTRegressor(generations=30, n_jobs=-1, population_size=25, random_state=42,\n",
       "              scoring='r2', verbosity=2)"
      ]
     },
     "execution_count": 10,
     "metadata": {},
     "output_type": "execute_result"
    }
   ],
   "source": [
    "#generationを30に変更\n",
    "tpot = TPOTRegressor(scoring='r2',\n",
    "                     generations=30,\n",
    "                     population_size=25,\n",
    "                     random_state=42,\n",
    "                     verbosity=2,\n",
    "                     n_jobs=-1)\n",
    "\n",
    "tpot.fit(X_train, y_train)"
   ]
  },
  {
   "cell_type": "code",
   "execution_count": 13,
   "metadata": {},
   "outputs": [
    {
     "name": "stdout",
     "output_type": "stream",
     "text": [
      "Imputing missing values in feature set\n",
      "                                                                                                                       \n",
      "Generation 1 - Current best internal CV score: 0.844516139906467\n",
      "                                                                                                                       \n",
      "Generation 2 - Current best internal CV score: 0.8522410870966104\n",
      "                                                                                                                       \n",
      "Generation 3 - Current best internal CV score: 0.8522410870966104\n",
      "                                                                                                                       \n",
      "Generation 4 - Current best internal CV score: 0.8522410870966104\n",
      "                                                                                                                       \n",
      "Generation 5 - Current best internal CV score: 0.8522410870966104\n",
      "                                                           \n",
      "Best pipeline: RandomForestRegressor(LassoLarsCV(RobustScaler(input_matrix), normalize=False), bootstrap=False, max_features=0.35000000000000003, min_samples_leaf=19, min_samples_split=5, n_estimators=100)\n"
     ]
    },
    {
     "data": {
      "text/plain": [
       "TPOTRegressor(generations=5, n_jobs=-1, population_size=50, random_state=42,\n",
       "              scoring='r2', verbosity=2)"
      ]
     },
     "execution_count": 13,
     "metadata": {},
     "output_type": "execute_result"
    }
   ],
   "source": [
    "#population_sizeを50に変更\n",
    "tpot = TPOTRegressor(scoring='r2',\n",
    "                     generations=5,\n",
    "                     population_size=50,\n",
    "                     random_state=42,\n",
    "                     verbosity=2,\n",
    "                     n_jobs=-1)\n",
    "\n",
    "tpot.fit(X_train, y_train)"
   ]
  },
  {
   "cell_type": "markdown",
   "metadata": {},
   "source": [
    "### testデータで検証"
   ]
  },
  {
   "cell_type": "code",
   "execution_count": 29,
   "metadata": {},
   "outputs": [],
   "source": [
    "test = change_objtype_toint(test)"
   ]
  },
  {
   "cell_type": "markdown",
   "metadata": {},
   "source": [
    "### 共通する列を抜き出し"
   ]
  },
  {
   "cell_type": "code",
   "execution_count": 30,
   "metadata": {},
   "outputs": [],
   "source": [
    "common_col = []\n",
    "for test_col in test.columns.values:\n",
    "    if test_col in X.columns.values:\n",
    "        common_col.append(test_col)"
   ]
  },
  {
   "cell_type": "code",
   "execution_count": 31,
   "metadata": {},
   "outputs": [],
   "source": [
    "test = test.loc[:,common_col]\n",
    "X = X.loc[:,common_col]"
   ]
  },
  {
   "cell_type": "markdown",
   "metadata": {},
   "source": [
    "### 学習"
   ]
  },
  {
   "cell_type": "code",
   "execution_count": 32,
   "metadata": {},
   "outputs": [
    {
     "name": "stdout",
     "output_type": "stream",
     "text": [
      "Imputing missing values in feature set\n",
      "                                                                                                                       \n",
      "Generation 1 - Current best internal CV score: 0.8735846904604904\n",
      "                                                                                                                       \n",
      "Generation 2 - Current best internal CV score: 0.8746144298630144\n",
      "                                                                                                                       \n",
      "Generation 3 - Current best internal CV score: 0.8746144298630144\n",
      "                                                                                                                       \n",
      "Generation 4 - Current best internal CV score: 0.8746144298630144\n",
      "                                                                                                                       \n",
      "Generation 5 - Current best internal CV score: 0.8746144298630144\n",
      "                                                           \n",
      "Best pipeline: RandomForestRegressor(LassoLarsCV(SGDRegressor(input_matrix, alpha=0.001, eta0=1.0, fit_intercept=True, l1_ratio=0.0, learning_rate=constant, loss=squared_loss, penalty=elasticnet, power_t=100.0), normalize=True), bootstrap=True, max_features=0.7500000000000001, min_samples_leaf=11, min_samples_split=9, n_estimators=100)\n"
     ]
    },
    {
     "data": {
      "text/plain": [
       "TPOTRegressor(generations=5, n_jobs=-1, population_size=25, random_state=42,\n",
       "              scoring='r2', verbosity=2)"
      ]
     },
     "execution_count": 32,
     "metadata": {},
     "output_type": "execute_result"
    }
   ],
   "source": [
    "tpot = TPOTRegressor(scoring='r2',\n",
    "                     generations=5,\n",
    "                     population_size=25,\n",
    "                     random_state=42,\n",
    "                     verbosity=2,\n",
    "                     n_jobs=-1)\n",
    "tpot.fit(X, y)"
   ]
  },
  {
   "cell_type": "code",
   "execution_count": 33,
   "metadata": {},
   "outputs": [
    {
     "name": "stdout",
     "output_type": "stream",
     "text": [
      "Imputing missing values in feature set\n"
     ]
    },
    {
     "data": {
      "text/plain": [
       "array([112027.64720875, 153768.39889231, 174596.5852358 , ...,\n",
       "       160725.89478057, 119419.25428719, 226664.9290364 ])"
      ]
     },
     "execution_count": 33,
     "metadata": {},
     "output_type": "execute_result"
    }
   ],
   "source": [
    "y_pred = tpot.predict(test)\n",
    "y_pred"
   ]
  },
  {
   "cell_type": "code",
   "execution_count": 34,
   "metadata": {},
   "outputs": [
    {
     "data": {
      "text/plain": [
       "Pipeline(steps=[('stackingestimator-1',\n",
       "                 StackingEstimator(estimator=SGDRegressor(alpha=0.001, eta0=1.0,\n",
       "                                                          l1_ratio=0.0,\n",
       "                                                          learning_rate='constant',\n",
       "                                                          loss='squared_loss',\n",
       "                                                          penalty='elasticnet',\n",
       "                                                          power_t=100.0,\n",
       "                                                          random_state=42))),\n",
       "                ('stackingestimator-2',\n",
       "                 StackingEstimator(estimator=LassoLarsCV(normalize=True))),\n",
       "                ('randomforestregressor',\n",
       "                 RandomForestRegressor(max_features=0.7500000000000001,\n",
       "                                       min_samples_leaf=11, min_samples_split=9,\n",
       "                                       random_state=42))])"
      ]
     },
     "execution_count": 34,
     "metadata": {},
     "output_type": "execute_result"
    }
   ],
   "source": [
    "tpot.fitted_pipeline_"
   ]
  },
  {
   "cell_type": "markdown",
   "metadata": {},
   "source": [
    "### 分析レポート"
   ]
  },
  {
   "cell_type": "markdown",
   "metadata": {},
   "source": [
    "TPOTRegressorのpopulation_size, generation, socreingを変更して評価結果の変化を確認した  \n",
    "population_sizeが大きくなると評価は良くなったが、2epoch目からは評価結果が横ばいであった\n",
    "generationは大きくすると評価結果はよくなった、ただepoch数が大きくなるほど評価精度が上がるまで時間を要する  \n",
    "scoringを変更すると評価精度は落ちた\n",
    "\n",
    "ハイパーパラメータチューニングをする必要があると感じた  \n",
    "\n",
    "pycartよりコード量は多く、処理時間も長いが、これまでpandas,sklearnを使って学習してきたように使えるので、個人的には使いやすいと感じた  \n",
    "pycartと並行して使うとよさそうである  "
   ]
  }
 ],
 "metadata": {
  "kernelspec": {
   "display_name": "apptask006",
   "language": "python",
   "name": "apptask006"
  },
  "language_info": {
   "codemirror_mode": {
    "name": "ipython",
    "version": 3
   },
   "file_extension": ".py",
   "mimetype": "text/x-python",
   "name": "python",
   "nbconvert_exporter": "python",
   "pygments_lexer": "ipython3",
   "version": "3.10.4"
  }
 },
 "nbformat": 4,
 "nbformat_minor": 2
}
