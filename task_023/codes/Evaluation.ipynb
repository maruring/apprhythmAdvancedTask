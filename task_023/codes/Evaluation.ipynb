{
 "cells": [
  {
   "attachments": {},
   "cell_type": "markdown",
   "metadata": {},
   "source": [
    "# 評価(Accuracy): 80%以上"
   ]
  },
  {
   "attachments": {},
   "cell_type": "markdown",
   "metadata": {},
   "source": [
    "## import関係"
   ]
  },
  {
   "cell_type": "code",
   "execution_count": null,
   "metadata": {},
   "outputs": [],
   "source": [
    "import pandas as pd\n",
    "import torch\n",
    "import torch.nn as nn\n",
    "from torchvision import transforms, models\n",
    "from PIL import Image\n",
    "from sklearn.metrics import accuracy_score\n",
    "from original_model import Net\n",
    "import warnings\n",
    "warnings.simplefilter('ignore')"
   ]
  },
  {
   "attachments": {},
   "cell_type": "markdown",
   "metadata": {},
   "source": [
    "## 関数関係"
   ]
  },
  {
   "cell_type": "code",
   "execution_count": null,
   "metadata": {},
   "outputs": [],
   "source": [
    "def predict(img):\n",
    "    #ファイル読み込み\n",
    "    transform = transforms.Compose([\n",
    "        transforms.Resize((256, 256)),\n",
    "        transforms.ToTensor(),\n",
    "        transforms.Normalize(mean=[0.485, 0.456, 0.406],\n",
    "                                  std=[0.229, 0.224, 0.225])\n",
    "    ])\n",
    "\n",
    "    img = transform(img).unsqueeze(0)\n",
    "\n",
    "     #予測\n",
    "    output = model(img)\n",
    "    softmax = nn.Softmax(dim=1)\n",
    "    _, pred = torch.max(output, 1)\n",
    "    ans = pred[0].item()\n",
    "    return ans\n"
   ]
  },
  {
   "attachments": {},
   "cell_type": "markdown",
   "metadata": {},
   "source": [
    "## モデルをload"
   ]
  },
  {
   "cell_type": "code",
   "execution_count": null,
   "metadata": {},
   "outputs": [],
   "source": [
    "model = Net().to(device)\n",
    "model.load_state_dict(torch.load(\"../models/model_weight.pth\"))\n",
    "model.eval()"
   ]
  },
  {
   "attachments": {},
   "cell_type": "markdown",
   "metadata": {},
   "source": [
    "## 単体実行"
   ]
  },
  {
   "cell_type": "code",
   "execution_count": null,
   "metadata": {},
   "outputs": [],
   "source": [
    "dog_img_path = \"../TRAIN//犬/000001.jpg\"\n",
    "cat_img_path = \"../TRAIN//猫/000001.jpg\"\n",
    "rabbit_img_path = \"../TRAIN//ウサギ/000001.jpg\"\n",
    "\n",
    "dog_img = Image.open(dog_img_path)\n",
    "cat_img = Image.open(cat_img_path)\n",
    "rabbit_img = Image.open(rabbit_img_path)\n",
    "\n",
    "print(predict(dog_img))\n",
    "print(predict(cat_img))\n",
    "print(predict(rabbit_img))"
   ]
  },
  {
   "attachments": {},
   "cell_type": "markdown",
   "metadata": {},
   "source": [
    "## TESTデータを予測"
   ]
  },
  {
   "cell_type": "code",
   "execution_count": null,
   "metadata": {},
   "outputs": [],
   "source": [
    "annotation_df = pd.read_csv('../TEST/annotation.csv')\n",
    "result_df = pd.DataFrame()\n",
    "\n",
    "for index, row in annotation_df.iterrows():\n",
    "    file_name = row['file_name']\n",
    "    ans = row['annotation']\n",
    "\n",
    "    if ans == \"rabbit\":\n",
    "        annotation = 0\n",
    "    elif ans == \"Dog\":\n",
    "        annotation = 1\n",
    "    else:\n",
    "        annotation = 2\n",
    "\n",
    "    img = Image.open(f'{file_name}')\n",
    "    pred = predict(img)\n",
    "\n",
    "    result_df = result_df.append({\"file_name\": file_name,\n",
    "                                \"ans\": annotation,\n",
    "                                \"pred\": pred},\n",
    "                                ignore_index=True)\n",
    "\n",
    "print(\"Finish!!\")"
   ]
  },
  {
   "attachments": {},
   "cell_type": "markdown",
   "metadata": {},
   "source": [
    "## 評価"
   ]
  },
  {
   "cell_type": "code",
   "execution_count": null,
   "metadata": {},
   "outputs": [],
   "source": [
    "y_true = result_df[\"ans\"].values.tolist()\n",
    "y_pred = result_df[\"pred\"].values.tolist()\n",
    "\n",
    "score = accuracy_score(y_true, y_pred) * 100\n",
    "\n",
    "print(f\"Accuracy: {score}\")"
   ]
  }
 ],
 "metadata": {
  "kernelspec": {
   "display_name": "base",
   "language": "python",
   "name": "python3"
  },
  "language_info": {
   "name": "python",
   "version": "3.8.8 (default, Apr 13 2021, 15:08:03) [MSC v.1916 64 bit (AMD64)]"
  },
  "orig_nbformat": 4,
  "vscode": {
   "interpreter": {
    "hash": "57ffe60b67f022e3e004c496d94efce98e49a91bd62ee70e03574f0be0e9ecc2"
   }
  }
 },
 "nbformat": 4,
 "nbformat_minor": 2
}
